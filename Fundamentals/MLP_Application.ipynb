{
 "cells": [
  {
   "cell_type": "markdown",
   "metadata": {},
   "source": [
    "### Diabetes Prediction with MLP"
   ]
  },
  {
   "cell_type": "markdown",
   "metadata": {},
   "source": [
    "Import Libraries"
   ]
  },
  {
   "cell_type": "code",
   "execution_count": 25,
   "metadata": {},
   "outputs": [
    {
     "data": {
      "text/plain": [
       "'2.13.0'"
      ]
     },
     "execution_count": 25,
     "metadata": {},
     "output_type": "execute_result"
    }
   ],
   "source": [
    "import numpy as np\n",
    "import pandas as pd\n",
    "import tensorflow as tf\n",
    "import seaborn as sns\n",
    "import matplotlib.pyplot as plt\n",
    "\n",
    "from tensorflow.keras.models import Sequential\n",
    "from tensorflow.keras.layers import Dense\n",
    "from sklearn.model_selection import train_test_split\n",
    "from sklearn.preprocessing import OrdinalEncoder, StandardScaler\n",
    "from sklearn.metrics import confusion_matrix, accuracy_score, classification_report\n",
    "tf.__version__"
   ]
  },
  {
   "cell_type": "markdown",
   "metadata": {},
   "source": [
    "### Data Processing"
   ]
  },
  {
   "cell_type": "markdown",
   "metadata": {},
   "source": [
    "Import the Dataset"
   ]
  },
  {
   "cell_type": "code",
   "execution_count": 26,
   "metadata": {},
   "outputs": [
    {
     "data": {
      "text/html": [
       "<div>\n",
       "<style scoped>\n",
       "    .dataframe tbody tr th:only-of-type {\n",
       "        vertical-align: middle;\n",
       "    }\n",
       "\n",
       "    .dataframe tbody tr th {\n",
       "        vertical-align: top;\n",
       "    }\n",
       "\n",
       "    .dataframe thead th {\n",
       "        text-align: right;\n",
       "    }\n",
       "</style>\n",
       "<table border=\"1\" class=\"dataframe\">\n",
       "  <thead>\n",
       "    <tr style=\"text-align: right;\">\n",
       "      <th></th>\n",
       "      <th>gender</th>\n",
       "      <th>age</th>\n",
       "      <th>hypertension</th>\n",
       "      <th>heart_disease</th>\n",
       "      <th>smoking_history</th>\n",
       "      <th>bmi</th>\n",
       "      <th>HbA1c_level</th>\n",
       "      <th>blood_glucose_level</th>\n",
       "      <th>diabetes</th>\n",
       "    </tr>\n",
       "  </thead>\n",
       "  <tbody>\n",
       "    <tr>\n",
       "      <th>0</th>\n",
       "      <td>Female</td>\n",
       "      <td>80.0</td>\n",
       "      <td>0</td>\n",
       "      <td>1</td>\n",
       "      <td>never</td>\n",
       "      <td>25.19</td>\n",
       "      <td>6.6</td>\n",
       "      <td>140</td>\n",
       "      <td>0</td>\n",
       "    </tr>\n",
       "    <tr>\n",
       "      <th>1</th>\n",
       "      <td>Female</td>\n",
       "      <td>54.0</td>\n",
       "      <td>0</td>\n",
       "      <td>0</td>\n",
       "      <td>No Info</td>\n",
       "      <td>27.32</td>\n",
       "      <td>6.6</td>\n",
       "      <td>80</td>\n",
       "      <td>0</td>\n",
       "    </tr>\n",
       "    <tr>\n",
       "      <th>2</th>\n",
       "      <td>Male</td>\n",
       "      <td>28.0</td>\n",
       "      <td>0</td>\n",
       "      <td>0</td>\n",
       "      <td>never</td>\n",
       "      <td>27.32</td>\n",
       "      <td>5.7</td>\n",
       "      <td>158</td>\n",
       "      <td>0</td>\n",
       "    </tr>\n",
       "    <tr>\n",
       "      <th>3</th>\n",
       "      <td>Female</td>\n",
       "      <td>36.0</td>\n",
       "      <td>0</td>\n",
       "      <td>0</td>\n",
       "      <td>current</td>\n",
       "      <td>23.45</td>\n",
       "      <td>5.0</td>\n",
       "      <td>155</td>\n",
       "      <td>0</td>\n",
       "    </tr>\n",
       "    <tr>\n",
       "      <th>4</th>\n",
       "      <td>Male</td>\n",
       "      <td>76.0</td>\n",
       "      <td>1</td>\n",
       "      <td>1</td>\n",
       "      <td>current</td>\n",
       "      <td>20.14</td>\n",
       "      <td>4.8</td>\n",
       "      <td>155</td>\n",
       "      <td>0</td>\n",
       "    </tr>\n",
       "  </tbody>\n",
       "</table>\n",
       "</div>"
      ],
      "text/plain": [
       "   gender   age  hypertension  heart_disease smoking_history    bmi  \\\n",
       "0  Female  80.0             0              1           never  25.19   \n",
       "1  Female  54.0             0              0         No Info  27.32   \n",
       "2    Male  28.0             0              0           never  27.32   \n",
       "3  Female  36.0             0              0         current  23.45   \n",
       "4    Male  76.0             1              1         current  20.14   \n",
       "\n",
       "   HbA1c_level  blood_glucose_level  diabetes  \n",
       "0          6.6                  140         0  \n",
       "1          6.6                   80         0  \n",
       "2          5.7                  158         0  \n",
       "3          5.0                  155         0  \n",
       "4          4.8                  155         0  "
      ]
     },
     "execution_count": 26,
     "metadata": {},
     "output_type": "execute_result"
    }
   ],
   "source": [
    "diabetes_df =  pd.read_csv('diabetes_prediction_dataset.csv')\n",
    "diabetes_df.head()"
   ]
  },
  {
   "cell_type": "markdown",
   "metadata": {},
   "source": [
    "Show the Dataset Information"
   ]
  },
  {
   "cell_type": "code",
   "execution_count": 27,
   "metadata": {},
   "outputs": [
    {
     "name": "stdout",
     "output_type": "stream",
     "text": [
      "<class 'pandas.core.frame.DataFrame'>\n",
      "RangeIndex: 100000 entries, 0 to 99999\n",
      "Data columns (total 9 columns):\n",
      " #   Column               Non-Null Count   Dtype  \n",
      "---  ------               --------------   -----  \n",
      " 0   gender               100000 non-null  object \n",
      " 1   age                  100000 non-null  float64\n",
      " 2   hypertension         100000 non-null  int64  \n",
      " 3   heart_disease        100000 non-null  int64  \n",
      " 4   smoking_history      100000 non-null  object \n",
      " 5   bmi                  100000 non-null  float64\n",
      " 6   HbA1c_level          100000 non-null  float64\n",
      " 7   blood_glucose_level  100000 non-null  int64  \n",
      " 8   diabetes             100000 non-null  int64  \n",
      "dtypes: float64(3), int64(4), object(2)\n",
      "memory usage: 6.9+ MB\n"
     ]
    }
   ],
   "source": [
    "diabetes_df.info()"
   ]
  },
  {
   "cell_type": "markdown",
   "metadata": {},
   "source": [
    "Encoding Categorical Data"
   ]
  },
  {
   "cell_type": "code",
   "execution_count": 28,
   "metadata": {},
   "outputs": [],
   "source": [
    "numeric_data = ['age', 'hypertension', 'heart_disease', 'bmi', 'HbA1c_level', 'blood_glucose_level']\n",
    "categorical_data = ['gender', 'smoking_history']"
   ]
  },
  {
   "cell_type": "code",
   "execution_count": 29,
   "metadata": {},
   "outputs": [
    {
     "data": {
      "text/html": [
       "<div>\n",
       "<style scoped>\n",
       "    .dataframe tbody tr th:only-of-type {\n",
       "        vertical-align: middle;\n",
       "    }\n",
       "\n",
       "    .dataframe tbody tr th {\n",
       "        vertical-align: top;\n",
       "    }\n",
       "\n",
       "    .dataframe thead th {\n",
       "        text-align: right;\n",
       "    }\n",
       "</style>\n",
       "<table border=\"1\" class=\"dataframe\">\n",
       "  <thead>\n",
       "    <tr style=\"text-align: right;\">\n",
       "      <th></th>\n",
       "      <th>gender</th>\n",
       "      <th>age</th>\n",
       "      <th>hypertension</th>\n",
       "      <th>heart_disease</th>\n",
       "      <th>smoking_history</th>\n",
       "      <th>bmi</th>\n",
       "      <th>HbA1c_level</th>\n",
       "      <th>blood_glucose_level</th>\n",
       "      <th>diabetes</th>\n",
       "    </tr>\n",
       "  </thead>\n",
       "  <tbody>\n",
       "    <tr>\n",
       "      <th>0</th>\n",
       "      <td>0.0</td>\n",
       "      <td>80.0</td>\n",
       "      <td>0</td>\n",
       "      <td>1</td>\n",
       "      <td>4.0</td>\n",
       "      <td>25.19</td>\n",
       "      <td>6.6</td>\n",
       "      <td>140</td>\n",
       "      <td>0</td>\n",
       "    </tr>\n",
       "    <tr>\n",
       "      <th>1</th>\n",
       "      <td>0.0</td>\n",
       "      <td>54.0</td>\n",
       "      <td>0</td>\n",
       "      <td>0</td>\n",
       "      <td>0.0</td>\n",
       "      <td>27.32</td>\n",
       "      <td>6.6</td>\n",
       "      <td>80</td>\n",
       "      <td>0</td>\n",
       "    </tr>\n",
       "    <tr>\n",
       "      <th>2</th>\n",
       "      <td>1.0</td>\n",
       "      <td>28.0</td>\n",
       "      <td>0</td>\n",
       "      <td>0</td>\n",
       "      <td>4.0</td>\n",
       "      <td>27.32</td>\n",
       "      <td>5.7</td>\n",
       "      <td>158</td>\n",
       "      <td>0</td>\n",
       "    </tr>\n",
       "    <tr>\n",
       "      <th>3</th>\n",
       "      <td>0.0</td>\n",
       "      <td>36.0</td>\n",
       "      <td>0</td>\n",
       "      <td>0</td>\n",
       "      <td>1.0</td>\n",
       "      <td>23.45</td>\n",
       "      <td>5.0</td>\n",
       "      <td>155</td>\n",
       "      <td>0</td>\n",
       "    </tr>\n",
       "    <tr>\n",
       "      <th>4</th>\n",
       "      <td>1.0</td>\n",
       "      <td>76.0</td>\n",
       "      <td>1</td>\n",
       "      <td>1</td>\n",
       "      <td>1.0</td>\n",
       "      <td>20.14</td>\n",
       "      <td>4.8</td>\n",
       "      <td>155</td>\n",
       "      <td>0</td>\n",
       "    </tr>\n",
       "  </tbody>\n",
       "</table>\n",
       "</div>"
      ],
      "text/plain": [
       "   gender   age  hypertension  heart_disease  smoking_history    bmi  \\\n",
       "0     0.0  80.0             0              1              4.0  25.19   \n",
       "1     0.0  54.0             0              0              0.0  27.32   \n",
       "2     1.0  28.0             0              0              4.0  27.32   \n",
       "3     0.0  36.0             0              0              1.0  23.45   \n",
       "4     1.0  76.0             1              1              1.0  20.14   \n",
       "\n",
       "   HbA1c_level  blood_glucose_level  diabetes  \n",
       "0          6.6                  140         0  \n",
       "1          6.6                   80         0  \n",
       "2          5.7                  158         0  \n",
       "3          5.0                  155         0  \n",
       "4          4.8                  155         0  "
      ]
     },
     "execution_count": 29,
     "metadata": {},
     "output_type": "execute_result"
    }
   ],
   "source": [
    "diabetes_df[categorical_data] = OrdinalEncoder().fit_transform(diabetes_df[categorical_data])\n",
    "diabetes_df.head()"
   ]
  },
  {
   "cell_type": "markdown",
   "metadata": {},
   "source": [
    "Split the Dataset into Training set and Testing set"
   ]
  },
  {
   "cell_type": "code",
   "execution_count": 30,
   "metadata": {},
   "outputs": [],
   "source": [
    "X = diabetes_df.drop('diabetes', axis=1)\n",
    "y = diabetes_df['diabetes']"
   ]
  },
  {
   "cell_type": "code",
   "execution_count": 31,
   "metadata": {},
   "outputs": [
    {
     "name": "stdout",
     "output_type": "stream",
     "text": [
      "Size of training data: (80000, 8)\n",
      "Size of testing  data: (20000, 8)\n"
     ]
    }
   ],
   "source": [
    "X_train, X_test, y_train, y_test = train_test_split(X, y, test_size=0.2, random_state=0)\n",
    "print(f'Size of training data: {X_train.shape}')\n",
    "print(f'Size of testing  data: {X_test.shape}')"
   ]
  },
  {
   "cell_type": "markdown",
   "metadata": {},
   "source": [
    "Feature Scaling"
   ]
  },
  {
   "cell_type": "code",
   "execution_count": 32,
   "metadata": {},
   "outputs": [],
   "source": [
    "sc = StandardScaler()\n",
    "X_train = sc.fit_transform(X_train)\n",
    "X_test = sc.transform(X_test)"
   ]
  },
  {
   "cell_type": "markdown",
   "metadata": {},
   "source": [
    "### Building the Artificial Neural Network"
   ]
  },
  {
   "cell_type": "markdown",
   "metadata": {},
   "source": [
    "Create the Artificial Neural Network"
   ]
  },
  {
   "cell_type": "code",
   "execution_count": 33,
   "metadata": {},
   "outputs": [],
   "source": [
    "def build_model():\n",
    "\n",
    "    model = Sequential()\n",
    "    model.add(Dense(64, activation='relu'))\n",
    "    model.add(Dense(64, activation='relu'))\n",
    "    model.add(Dense(64, activation='relu'))\n",
    "    model.add(Dense(1, activation='sigmoid'))\n",
    "    \n",
    "    model.compile(optimizer='adam', loss='binary_crossentropy', metrics=['accuracy'])\n",
    "\n",
    "    return model"
   ]
  },
  {
   "cell_type": "markdown",
   "metadata": {},
   "source": [
    "### Training the Artificial Neural Network"
   ]
  },
  {
   "cell_type": "markdown",
   "metadata": {},
   "source": [
    "Compiling the Model"
   ]
  },
  {
   "cell_type": "code",
   "execution_count": 34,
   "metadata": {},
   "outputs": [],
   "source": [
    "model = build_model()"
   ]
  },
  {
   "cell_type": "markdown",
   "metadata": {},
   "source": [
    "Train the Model"
   ]
  },
  {
   "cell_type": "code",
   "execution_count": 35,
   "metadata": {},
   "outputs": [
    {
     "name": "stdout",
     "output_type": "stream",
     "text": [
      "Epoch 1/100\n",
      "2500/2500 [==============================] - 3s 859us/step - loss: 0.1128 - accuracy: 0.9613\n",
      "Epoch 2/100\n",
      "2500/2500 [==============================] - 2s 850us/step - loss: 0.0884 - accuracy: 0.9693\n",
      "Epoch 3/100\n",
      "2500/2500 [==============================] - 2s 843us/step - loss: 0.0848 - accuracy: 0.9706\n",
      "Epoch 4/100\n",
      "2500/2500 [==============================] - 2s 822us/step - loss: 0.0843 - accuracy: 0.9707\n",
      "Epoch 5/100\n",
      "2500/2500 [==============================] - 2s 815us/step - loss: 0.0839 - accuracy: 0.9706\n",
      "Epoch 6/100\n",
      "2500/2500 [==============================] - 2s 792us/step - loss: 0.0830 - accuracy: 0.9711\n",
      "Epoch 7/100\n",
      "2500/2500 [==============================] - 2s 796us/step - loss: 0.0826 - accuracy: 0.9715\n",
      "Epoch 8/100\n",
      "2500/2500 [==============================] - 2s 840us/step - loss: 0.0822 - accuracy: 0.9714\n",
      "Epoch 9/100\n",
      "2500/2500 [==============================] - 2s 874us/step - loss: 0.0827 - accuracy: 0.9713\n",
      "Epoch 10/100\n",
      "2500/2500 [==============================] - 2s 941us/step - loss: 0.0819 - accuracy: 0.9714\n",
      "Epoch 11/100\n",
      "2500/2500 [==============================] - 2s 865us/step - loss: 0.0818 - accuracy: 0.9716\n",
      "Epoch 12/100\n",
      "2500/2500 [==============================] - 2s 866us/step - loss: 0.0821 - accuracy: 0.9715\n",
      "Epoch 13/100\n",
      "2500/2500 [==============================] - 2s 834us/step - loss: 0.0815 - accuracy: 0.9716\n",
      "Epoch 14/100\n",
      "2500/2500 [==============================] - 2s 849us/step - loss: 0.0816 - accuracy: 0.9715\n",
      "Epoch 15/100\n",
      "2500/2500 [==============================] - 2s 845us/step - loss: 0.0812 - accuracy: 0.9718\n",
      "Epoch 16/100\n",
      "2500/2500 [==============================] - 2s 887us/step - loss: 0.0812 - accuracy: 0.9718\n",
      "Epoch 17/100\n",
      "2500/2500 [==============================] - 2s 821us/step - loss: 0.0813 - accuracy: 0.9719\n",
      "Epoch 18/100\n",
      "2500/2500 [==============================] - 2s 799us/step - loss: 0.0805 - accuracy: 0.9719\n",
      "Epoch 19/100\n",
      "2500/2500 [==============================] - 2s 861us/step - loss: 0.0812 - accuracy: 0.9718\n",
      "Epoch 20/100\n",
      "2500/2500 [==============================] - 2s 841us/step - loss: 0.0806 - accuracy: 0.9718\n",
      "Epoch 21/100\n",
      "2500/2500 [==============================] - 2s 861us/step - loss: 0.0804 - accuracy: 0.9719\n",
      "Epoch 22/100\n",
      "2500/2500 [==============================] - 2s 865us/step - loss: 0.0803 - accuracy: 0.9719\n",
      "Epoch 23/100\n",
      "2500/2500 [==============================] - 2s 819us/step - loss: 0.0805 - accuracy: 0.9720\n",
      "Epoch 24/100\n",
      "2500/2500 [==============================] - 2s 790us/step - loss: 0.0802 - accuracy: 0.9721\n",
      "Epoch 25/100\n",
      "2500/2500 [==============================] - 2s 812us/step - loss: 0.0800 - accuracy: 0.9720\n",
      "Epoch 26/100\n",
      "2500/2500 [==============================] - 2s 782us/step - loss: 0.0799 - accuracy: 0.9721\n",
      "Epoch 27/100\n",
      "2500/2500 [==============================] - 2s 839us/step - loss: 0.0799 - accuracy: 0.9720\n",
      "Epoch 28/100\n",
      "2500/2500 [==============================] - 2s 862us/step - loss: 0.0796 - accuracy: 0.9722\n",
      "Epoch 29/100\n",
      "2500/2500 [==============================] - 2s 853us/step - loss: 0.0797 - accuracy: 0.9722\n",
      "Epoch 30/100\n",
      "2500/2500 [==============================] - 2s 806us/step - loss: 0.0797 - accuracy: 0.9722\n",
      "Epoch 31/100\n",
      "2500/2500 [==============================] - 2s 788us/step - loss: 0.0794 - accuracy: 0.9723\n",
      "Epoch 32/100\n",
      "2500/2500 [==============================] - 2s 793us/step - loss: 0.0793 - accuracy: 0.9720\n",
      "Epoch 33/100\n",
      "2500/2500 [==============================] - 2s 833us/step - loss: 0.0791 - accuracy: 0.9723\n",
      "Epoch 34/100\n",
      "2500/2500 [==============================] - 2s 855us/step - loss: 0.0793 - accuracy: 0.9724\n",
      "Epoch 35/100\n",
      "2500/2500 [==============================] - 2s 863us/step - loss: 0.0789 - accuracy: 0.9725\n",
      "Epoch 36/100\n",
      "2500/2500 [==============================] - 2s 884us/step - loss: 0.0792 - accuracy: 0.9722\n",
      "Epoch 37/100\n",
      "2500/2500 [==============================] - 2s 893us/step - loss: 0.0789 - accuracy: 0.9726\n",
      "Epoch 38/100\n",
      "2500/2500 [==============================] - 2s 841us/step - loss: 0.0786 - accuracy: 0.9725\n",
      "Epoch 39/100\n",
      "2500/2500 [==============================] - 2s 814us/step - loss: 0.0785 - accuracy: 0.9725\n",
      "Epoch 40/100\n",
      "2500/2500 [==============================] - 2s 795us/step - loss: 0.0786 - accuracy: 0.9723\n",
      "Epoch 41/100\n",
      "2500/2500 [==============================] - 2s 812us/step - loss: 0.0783 - accuracy: 0.9724\n",
      "Epoch 42/100\n",
      "2500/2500 [==============================] - 2s 804us/step - loss: 0.0784 - accuracy: 0.9725\n",
      "Epoch 43/100\n",
      "2500/2500 [==============================] - 2s 820us/step - loss: 0.0784 - accuracy: 0.9723\n",
      "Epoch 44/100\n",
      "2500/2500 [==============================] - 2s 807us/step - loss: 0.0780 - accuracy: 0.9724\n",
      "Epoch 45/100\n",
      "2500/2500 [==============================] - 2s 814us/step - loss: 0.0776 - accuracy: 0.9728\n",
      "Epoch 46/100\n",
      "2500/2500 [==============================] - 2s 818us/step - loss: 0.0779 - accuracy: 0.9728\n",
      "Epoch 47/100\n",
      "2500/2500 [==============================] - 2s 871us/step - loss: 0.0774 - accuracy: 0.9727\n",
      "Epoch 48/100\n",
      "2500/2500 [==============================] - 2s 882us/step - loss: 0.0779 - accuracy: 0.9726\n",
      "Epoch 49/100\n",
      "2500/2500 [==============================] - 2s 853us/step - loss: 0.0772 - accuracy: 0.9727\n",
      "Epoch 50/100\n",
      "2500/2500 [==============================] - 2s 812us/step - loss: 0.0771 - accuracy: 0.9728\n",
      "Epoch 51/100\n",
      "2500/2500 [==============================] - 2s 848us/step - loss: 0.0773 - accuracy: 0.9727\n",
      "Epoch 52/100\n",
      "2500/2500 [==============================] - 2s 792us/step - loss: 0.0771 - accuracy: 0.9727\n",
      "Epoch 53/100\n",
      "2500/2500 [==============================] - 2s 858us/step - loss: 0.0767 - accuracy: 0.9729\n",
      "Epoch 54/100\n",
      "2500/2500 [==============================] - 2s 868us/step - loss: 0.0770 - accuracy: 0.9730\n",
      "Epoch 55/100\n",
      "2500/2500 [==============================] - 2s 850us/step - loss: 0.0765 - accuracy: 0.9730\n",
      "Epoch 56/100\n",
      "2500/2500 [==============================] - 2s 824us/step - loss: 0.0766 - accuracy: 0.9729\n",
      "Epoch 57/100\n",
      "2500/2500 [==============================] - 2s 819us/step - loss: 0.0764 - accuracy: 0.9730\n",
      "Epoch 58/100\n",
      "2500/2500 [==============================] - 2s 810us/step - loss: 0.0760 - accuracy: 0.9732\n",
      "Epoch 59/100\n",
      "2500/2500 [==============================] - 2s 795us/step - loss: 0.0761 - accuracy: 0.9732\n",
      "Epoch 60/100\n",
      "2500/2500 [==============================] - 2s 788us/step - loss: 0.0763 - accuracy: 0.9730\n",
      "Epoch 61/100\n",
      "2500/2500 [==============================] - 2s 867us/step - loss: 0.0762 - accuracy: 0.9730\n",
      "Epoch 62/100\n",
      "2500/2500 [==============================] - 2s 842us/step - loss: 0.0756 - accuracy: 0.9732\n",
      "Epoch 63/100\n",
      "2500/2500 [==============================] - 2s 835us/step - loss: 0.0761 - accuracy: 0.9731\n",
      "Epoch 64/100\n",
      "2500/2500 [==============================] - 2s 947us/step - loss: 0.0757 - accuracy: 0.9731\n",
      "Epoch 65/100\n",
      "2500/2500 [==============================] - 2s 890us/step - loss: 0.0753 - accuracy: 0.9733\n",
      "Epoch 66/100\n",
      "2500/2500 [==============================] - 2s 853us/step - loss: 0.0757 - accuracy: 0.9733\n",
      "Epoch 67/100\n",
      "2500/2500 [==============================] - 2s 872us/step - loss: 0.0755 - accuracy: 0.9733\n",
      "Epoch 68/100\n",
      "2500/2500 [==============================] - 2s 878us/step - loss: 0.0751 - accuracy: 0.9736\n",
      "Epoch 69/100\n",
      "2500/2500 [==============================] - 2s 868us/step - loss: 0.0749 - accuracy: 0.9737\n",
      "Epoch 70/100\n",
      "2500/2500 [==============================] - 2s 854us/step - loss: 0.0749 - accuracy: 0.9736\n",
      "Epoch 71/100\n",
      "2500/2500 [==============================] - 2s 858us/step - loss: 0.0749 - accuracy: 0.9737\n",
      "Epoch 72/100\n",
      "2500/2500 [==============================] - 2s 973us/step - loss: 0.0746 - accuracy: 0.9737\n",
      "Epoch 73/100\n",
      "2500/2500 [==============================] - 2s 884us/step - loss: 0.0745 - accuracy: 0.9736\n",
      "Epoch 74/100\n",
      "2500/2500 [==============================] - 2s 923us/step - loss: 0.0742 - accuracy: 0.9738\n",
      "Epoch 75/100\n",
      "2500/2500 [==============================] - 2s 863us/step - loss: 0.0746 - accuracy: 0.9738\n",
      "Epoch 76/100\n",
      "2500/2500 [==============================] - 2s 915us/step - loss: 0.0739 - accuracy: 0.9738\n",
      "Epoch 77/100\n",
      "2500/2500 [==============================] - 2s 871us/step - loss: 0.0740 - accuracy: 0.9737\n",
      "Epoch 78/100\n",
      "2500/2500 [==============================] - 2s 861us/step - loss: 0.0738 - accuracy: 0.9740\n",
      "Epoch 79/100\n",
      "2500/2500 [==============================] - 2s 864us/step - loss: 0.0736 - accuracy: 0.9739\n",
      "Epoch 80/100\n",
      "2500/2500 [==============================] - 2s 817us/step - loss: 0.0736 - accuracy: 0.9738\n",
      "Epoch 81/100\n",
      "2500/2500 [==============================] - 2s 798us/step - loss: 0.0735 - accuracy: 0.9742\n",
      "Epoch 82/100\n",
      "2500/2500 [==============================] - 2s 793us/step - loss: 0.0735 - accuracy: 0.9740\n",
      "Epoch 83/100\n",
      "2500/2500 [==============================] - 2s 796us/step - loss: 0.0729 - accuracy: 0.9743\n",
      "Epoch 84/100\n",
      "2500/2500 [==============================] - 2s 836us/step - loss: 0.0730 - accuracy: 0.9741\n",
      "Epoch 85/100\n",
      "2500/2500 [==============================] - 2s 866us/step - loss: 0.0729 - accuracy: 0.9742\n",
      "Epoch 86/100\n",
      "2500/2500 [==============================] - 2s 873us/step - loss: 0.0728 - accuracy: 0.9740\n",
      "Epoch 87/100\n",
      "2500/2500 [==============================] - 2s 881us/step - loss: 0.0730 - accuracy: 0.9740\n",
      "Epoch 88/100\n",
      "2500/2500 [==============================] - 2s 836us/step - loss: 0.0728 - accuracy: 0.9742\n",
      "Epoch 89/100\n",
      "2500/2500 [==============================] - 2s 865us/step - loss: 0.0723 - accuracy: 0.9742\n",
      "Epoch 90/100\n",
      "2500/2500 [==============================] - 2s 826us/step - loss: 0.0724 - accuracy: 0.9744\n",
      "Epoch 91/100\n",
      "2500/2500 [==============================] - 2s 826us/step - loss: 0.0721 - accuracy: 0.9744\n",
      "Epoch 92/100\n",
      "2500/2500 [==============================] - 2s 863us/step - loss: 0.0721 - accuracy: 0.9742\n",
      "Epoch 93/100\n",
      "2500/2500 [==============================] - 2s 856us/step - loss: 0.0717 - accuracy: 0.9746\n",
      "Epoch 94/100\n",
      "2500/2500 [==============================] - 2s 803us/step - loss: 0.0717 - accuracy: 0.9745\n",
      "Epoch 95/100\n",
      "2500/2500 [==============================] - 2s 800us/step - loss: 0.0723 - accuracy: 0.9744\n",
      "Epoch 96/100\n",
      "2500/2500 [==============================] - 2s 815us/step - loss: 0.0718 - accuracy: 0.9745\n",
      "Epoch 97/100\n",
      "2500/2500 [==============================] - 2s 810us/step - loss: 0.0716 - accuracy: 0.9745\n",
      "Epoch 98/100\n",
      "2500/2500 [==============================] - 2s 806us/step - loss: 0.0714 - accuracy: 0.9745\n",
      "Epoch 99/100\n",
      "2500/2500 [==============================] - 2s 817us/step - loss: 0.0714 - accuracy: 0.9747\n",
      "Epoch 100/100\n",
      "2500/2500 [==============================] - 2s 802us/step - loss: 0.0712 - accuracy: 0.9743\n"
     ]
    },
    {
     "data": {
      "text/plain": [
       "<keras.src.callbacks.History at 0x1bad2a06150>"
      ]
     },
     "execution_count": 35,
     "metadata": {},
     "output_type": "execute_result"
    }
   ],
   "source": [
    "model.fit(X_train, y_train, batch_size = 32, epochs = 100)"
   ]
  },
  {
   "cell_type": "markdown",
   "metadata": {},
   "source": [
    "### Making Predictions and Evaluating the Model"
   ]
  },
  {
   "cell_type": "markdown",
   "metadata": {},
   "source": [
    "Model Evaluation"
   ]
  },
  {
   "cell_type": "code",
   "execution_count": 36,
   "metadata": {},
   "outputs": [
    {
     "name": "stdout",
     "output_type": "stream",
     "text": [
      "625/625 [==============================] - 1s 657us/step - loss: 0.0981 - accuracy: 0.9700\n"
     ]
    },
    {
     "data": {
      "text/plain": [
       "[0.09812392294406891, 0.9700499773025513]"
      ]
     },
     "execution_count": 36,
     "metadata": {},
     "output_type": "execute_result"
    }
   ],
   "source": [
    "model.evaluate(X_test, y_test, verbose=1)"
   ]
  },
  {
   "cell_type": "markdown",
   "metadata": {},
   "source": [
    "Predicting the Testing set Results"
   ]
  },
  {
   "cell_type": "code",
   "execution_count": 37,
   "metadata": {},
   "outputs": [
    {
     "name": "stdout",
     "output_type": "stream",
     "text": [
      "625/625 [==============================] - 0s 614us/step\n"
     ]
    }
   ],
   "source": [
    "y_pred = model.predict(X_test)\n",
    "y_pred = (y_pred > 0.5)\n",
    "\n",
    "test_labels = np.squeeze(y_test)\n",
    "predictions = np.squeeze(y_pred)"
   ]
  },
  {
   "cell_type": "code",
   "execution_count": 38,
   "metadata": {},
   "outputs": [
    {
     "data": {
      "text/html": [
       "<div>\n",
       "<style scoped>\n",
       "    .dataframe tbody tr th:only-of-type {\n",
       "        vertical-align: middle;\n",
       "    }\n",
       "\n",
       "    .dataframe tbody tr th {\n",
       "        vertical-align: top;\n",
       "    }\n",
       "\n",
       "    .dataframe thead th {\n",
       "        text-align: right;\n",
       "    }\n",
       "</style>\n",
       "<table border=\"1\" class=\"dataframe\">\n",
       "  <thead>\n",
       "    <tr style=\"text-align: right;\">\n",
       "      <th></th>\n",
       "      <th>Actual</th>\n",
       "      <th>Prediction</th>\n",
       "    </tr>\n",
       "  </thead>\n",
       "  <tbody>\n",
       "    <tr>\n",
       "      <th>3582</th>\n",
       "      <td>0</td>\n",
       "      <td>False</td>\n",
       "    </tr>\n",
       "    <tr>\n",
       "      <th>60498</th>\n",
       "      <td>0</td>\n",
       "      <td>False</td>\n",
       "    </tr>\n",
       "    <tr>\n",
       "      <th>53227</th>\n",
       "      <td>0</td>\n",
       "      <td>False</td>\n",
       "    </tr>\n",
       "    <tr>\n",
       "      <th>21333</th>\n",
       "      <td>0</td>\n",
       "      <td>False</td>\n",
       "    </tr>\n",
       "    <tr>\n",
       "      <th>3885</th>\n",
       "      <td>0</td>\n",
       "      <td>False</td>\n",
       "    </tr>\n",
       "  </tbody>\n",
       "</table>\n",
       "</div>"
      ],
      "text/plain": [
       "       Actual  Prediction\n",
       "3582        0       False\n",
       "60498       0       False\n",
       "53227       0       False\n",
       "21333       0       False\n",
       "3885        0       False"
      ]
     },
     "execution_count": 38,
     "metadata": {},
     "output_type": "execute_result"
    }
   ],
   "source": [
    "df_result = pd.DataFrame({'Actual': test_labels, 'Prediction': predictions})\n",
    "df_result.head()"
   ]
  },
  {
   "cell_type": "markdown",
   "metadata": {},
   "source": [
    "Making the Confusion Matrix"
   ]
  },
  {
   "cell_type": "code",
   "execution_count": 39,
   "metadata": {},
   "outputs": [
    {
     "name": "stdout",
     "output_type": "stream",
     "text": [
      "[[18211    86]\n",
      " [  513  1190]]\n"
     ]
    }
   ],
   "source": [
    "conf_matrix = confusion_matrix(df_result.iloc[:,0], df_result.iloc[:,1])\n",
    "print(conf_matrix)"
   ]
  },
  {
   "cell_type": "code",
   "execution_count": 40,
   "metadata": {},
   "outputs": [
    {
     "data": {
      "image/png": "[encoded data removed]",
      "text/plain": [
       "<Figure size 640x480 with 2 Axes>"
      ]
     },
     "metadata": {},
     "output_type": "display_data"
    }
   ],
   "source": [
    "sns.heatmap(conf_matrix, annot=True, fmt='d')\n",
    "plt.xlabel('Predicted')\n",
    "plt.ylabel('Actual')\n",
    "plt.title('Confusion Matrix')\n",
    "plt.show()"
   ]
  },
  {
   "cell_type": "markdown",
   "metadata": {},
   "source": [
    "Accuracy, Specificity, and Sensitivity of the Model"
   ]
  },
  {
   "cell_type": "code",
   "execution_count": 41,
   "metadata": {},
   "outputs": [],
   "source": [
    "true_positive = conf_matrix[1,1] \n",
    "true_negative = conf_matrix[0,0]\n",
    "false_positive  = conf_matrix[0,1]\n",
    "false_negative = conf_matrix[1,0]"
   ]
  },
  {
   "cell_type": "code",
   "execution_count": 42,
   "metadata": {},
   "outputs": [
    {
     "name": "stdout",
     "output_type": "stream",
     "text": [
      "Accuracy: 0.97005\n",
      "Specificity: 0.9952997759195497\n",
      "Sensitivity: 0.6987668819729889\n"
     ]
    }
   ],
   "source": [
    "print(f\"Accuracy: {accuracy_score(y_test, y_pred)}\")\n",
    "print(f\"Specificity: {true_negative/(true_negative+false_positive)}\")\n",
    "print(f\"Sensitivity: {true_positive/(true_positive+false_negative)}\")"
   ]
  },
  {
   "cell_type": "markdown",
   "metadata": {},
   "source": [
    "Generate Classification Report"
   ]
  },
  {
   "cell_type": "code",
   "execution_count": 43,
   "metadata": {},
   "outputs": [
    {
     "name": "stdout",
     "output_type": "stream",
     "text": [
      "              precision    recall  f1-score   support\n",
      "\n",
      "           0       0.97      1.00      0.98     18297\n",
      "           1       0.93      0.70      0.80      1703\n",
      "\n",
      "    accuracy                           0.97     20000\n",
      "   macro avg       0.95      0.85      0.89     20000\n",
      "weighted avg       0.97      0.97      0.97     20000\n",
      "\n"
     ]
    }
   ],
   "source": [
    "report = classification_report(df_result.iloc[:,0], df_result.iloc[:,1])\n",
    "print(report)"
   ]
  }
 ],
 "metadata": {
  "kernelspec": {
   "display_name": "Python 3",
   "language": "python",
   "name": "python3"
  },
  "language_info": {
   "codemirror_mode": {
    "name": "ipython",
    "version": 3
   },
   "file_extension": ".py",
   "mimetype": "text/x-python",
   "name": "python",
   "nbconvert_exporter": "python",
   "pygments_lexer": "ipython3",
   "version": "3.11.4"
  },
  "orig_nbformat": 4
 },
 "nbformat": 4,
 "nbformat_minor": 2
}
