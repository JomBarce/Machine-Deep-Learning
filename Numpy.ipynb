{
 "cells": [
  {
   "cell_type": "code",
   "execution_count": 1,
   "metadata": {},
   "outputs": [],
   "source": [
    "import numpy as np"
   ]
  },
  {
   "cell_type": "code",
   "execution_count": 3,
   "metadata": {},
   "outputs": [
    {
     "name": "stdout",
     "output_type": "stream",
     "text": [
      "\n",
      "Question 1:\n",
      "\n",
      "Matrix: \n",
      "[[1. 2. 3.]\n",
      " [4. 5. 6.]\n",
      " [7. 8. 9.]]\n",
      "\n",
      "Diagonal of the matrix: [1. 5. 9.]\n",
      "\n",
      "Inverse does not exist since matrix is singular.\n",
      "\n",
      "The determinant of matrix: 0.0\n"
     ]
    }
   ],
   "source": [
    "# Q1\n",
    "def q1():\n",
    "    print(\"\\nQuestion 1:\")\n",
    "    matrix = np.zeros((3,3))\n",
    "    for x in range(3):\n",
    "        for y in range(3):\n",
    "            matrix[x][y] = input(f'Enter the elem for {x} row and {y} column: ')\n",
    "            \n",
    "    print(f\"\\nMatrix: \\n{matrix}\")\n",
    "    print(f\"\\nDiagonal of the matrix: {matrix.diagonal()}\")\n",
    "\n",
    "    try:\n",
    "        print(f\"\\nThe inverse of matrix:\\n{np.linalg.inv(matrix)}\")\n",
    "    except np.linalg.LinAlgError:\n",
    "        print(\"\\nInverse does not exist since matrix is singular.\") \n",
    "\n",
    "    print(f\"\\nThe determinant of matrix: {np.linalg.det(matrix)}\")\n",
    "\n",
    "q1()"
   ]
  },
  {
   "cell_type": "code",
   "execution_count": 6,
   "metadata": {},
   "outputs": [
    {
     "name": "stdout",
     "output_type": "stream",
     "text": [
      "\n",
      "Question 2:\n",
      "\n",
      "Coefficients: [  1.   2. -15.]\n",
      "\n",
      "Roots of the polynomial [-5.  3.]\n",
      "\n",
      "Derivative of the polynomial [2. 2.]\n",
      "\n",
      "Integration of the polynomial [  0.33333333   1.         -15.           0.        ]\n"
     ]
    }
   ],
   "source": [
    "# Q2\n",
    "def q2():\n",
    "    print(\"\\nQuestion 2:\")\n",
    "    arr = np.array([], dtype=float)\n",
    "    degree = input(\"Input the degree of the polynomial: \")\n",
    "    for x in reversed(range(int(degree)+1)):\n",
    "        coefficient = input(f\"Input the coefficient for the degree {x}: \")\n",
    "        arr = np.append(arr, float(coefficient))\n",
    "    \n",
    "    print(f\"\\nCoefficients: {arr}\")\n",
    "    print(f\"\\nRoots of the polynomial {np.roots(arr)}\")\n",
    "    print(f\"\\nDerivative of the polynomial {np.polyder(arr)}\")\n",
    "    print(f\"\\nIntegration of the polynomial {np.polyint(arr)}\")\n",
    "\n",
    "q2()"
   ]
  },
  {
   "cell_type": "code",
   "execution_count": 7,
   "metadata": {},
   "outputs": [
    {
     "name": "stdout",
     "output_type": "stream",
     "text": [
      "\n",
      "Question 3:\n",
      "Enter the components for vector: Vector1\n",
      "Enter the components for vector: Vector2\n",
      "\n",
      "Vector1: [2. 3. 5.]\n",
      "\n",
      "Vector2: [2. 1. 4.]\n",
      "\n",
      "The dot product of the 2 vectors: 27.0\n",
      "\n",
      "The cross product of the 2 vectors: [ 7.  2. -4.]\n",
      "\n",
      "The magnitude of the cross prodcut: 8.306623862918075\n"
     ]
    }
   ],
   "source": [
    "# Q3\n",
    "def askValues(vectorName: str):\n",
    "    vector = np.array([], dtype=float)\n",
    "    print(f\"Enter the components for vector: {vectorName}\")\n",
    "    for x in range(3):\n",
    "        val = input(f\"Value {x+1}: \")\n",
    "        vector = np.append(vector, float(val))\n",
    "    return vector\n",
    "    \n",
    "def q3():\n",
    "    print(\"\\nQuestion 3:\")\n",
    "    vector1 = askValues(\"Vector1\")\n",
    "    vector2 = askValues(\"Vector2\")\n",
    "\n",
    "    print(f\"\\nVector1: {vector1}\")\n",
    "    print(f\"\\nVector2: {vector2}\")\n",
    "\n",
    "    crossProduct = np.cross(vector1, vector2)\n",
    "\n",
    "    print(f\"\\nThe dot product of the 2 vectors: {np.dot(vector1, vector2)}\")\n",
    "    print(f\"\\nThe cross product of the 2 vectors: {crossProduct}\")\n",
    "    print(f\"\\nThe magnitude of the cross prodcut: {np.linalg.norm(crossProduct)}\")\n",
    "\n",
    "\n",
    "q3()"
   ]
  },
  {
   "cell_type": "code",
   "execution_count": 8,
   "metadata": {},
   "outputs": [
    {
     "name": "stdout",
     "output_type": "stream",
     "text": [
      "\n",
      "Question 4:\n",
      "\n",
      "The mean of the value of the elements in the array: 32.7\n",
      "\n",
      "Elements greater than 2 are:\n",
      "23.0\n",
      "5.0\n",
      "7.0\n",
      "9.0\n",
      "66.0\n",
      "8.0\n",
      "3.0\n",
      "203.0\n",
      "\n",
      "The 5 highest numbers are:\n",
      "203.0\n",
      "66.0\n",
      "23.0\n",
      "9.0\n",
      "8.0\n"
     ]
    }
   ],
   "source": [
    "# Q4\n",
    "def q4():\n",
    "    print(\"\\nQuestion 4:\")\n",
    "    arr = np.array([], dtype=float)\n",
    "    for x in range(10):\n",
    "        num = input(f\"Enter the {x+1} num: \")\n",
    "        arr = np.append(arr, float(num))\n",
    "    \n",
    "    print(f\"\\nThe mean of the value of the elements in the array: {np.mean(arr)}\")\n",
    "\n",
    "    print(f\"\\nElements greater than 2 are:\")\n",
    "    for x in range(arr.size):\n",
    "        if(arr[x] > 2):\n",
    "            print(arr[x])\n",
    "\n",
    "    print(f\"\\nThe 5 highest numbers are:\")\n",
    "    sorted_arr = sorted(arr, reverse=True)\n",
    "    for x in range(5):\n",
    "        print(sorted_arr[x])\n",
    "\n",
    "q4()"
   ]
  }
 ],
 "metadata": {
  "kernelspec": {
   "display_name": "venv",
   "language": "python",
   "name": "python3"
  },
  "language_info": {
   "codemirror_mode": {
    "name": "ipython",
    "version": 3
   },
   "file_extension": ".py",
   "mimetype": "text/x-python",
   "name": "python",
   "nbconvert_exporter": "python",
   "pygments_lexer": "ipython3",
   "version": "3.11.4"
  },
  "orig_nbformat": 4
 },
 "nbformat": 4,
 "nbformat_minor": 2
}
