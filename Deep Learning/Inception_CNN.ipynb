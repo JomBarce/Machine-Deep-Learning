{
  "cells": [
    {
      "cell_type": "markdown",
      "metadata": {
        "id": "B5zfBjLXVhoN"
      },
      "source": [
        "##### Programming Exercise by Jomer Allan G. Barcenilla Based on:\n",
        "UNDERSTANDING DEEP LEARNING REQUIRES RETHINKING GENERALIZATION\n",
        "- Chiyuan Zhang, Samy Bengio, Moritz Hardt, Benjamin Recht, & Oriol Vinyals"
      ]
    },
    {
      "cell_type": "markdown",
      "metadata": {
        "id": "kJ2_m81iVhoQ"
      },
      "source": [
        "### Import Libraries"
      ]
    },
    {
      "cell_type": "code",
      "execution_count": 1,
      "metadata": {
        "id": "cnHJvwV1VhoQ"
      },
      "outputs": [],
      "source": [
        "import time\n",
        "import numpy as np\n",
        "import pandas as pd\n",
        "import seaborn as sns\n",
        "import matplotlib.pyplot as plt\n",
        "import tensorflow as tf\n",
        "\n",
        "from tensorflow.keras.layers import Input, Conv2D, BatchNormalization, Activation, Concatenate, MaxPooling2D, AveragePooling2D, Flatten, Dropout, Dense\n",
        "from tensorflow.keras.models import Model\n",
        "from tensorflow.keras.optimizers import SGD\n",
        "from tensorflow.keras.callbacks import LearningRateScheduler"
      ]
    },
    {
      "cell_type": "markdown",
      "metadata": {
        "id": "JGfg1J4pVhoS"
      },
      "source": [
        "### Import Dataset"
      ]
    },
    {
      "cell_type": "code",
      "execution_count": 2,
      "metadata": {
        "id": "mSa2tTtPVhoS"
      },
      "outputs": [],
      "source": [
        "# Configurations\n",
        "tf.random.set_seed(24)\n",
        "\n",
        "num_classes = 10\n",
        "lr = 0.01\n",
        "epochs = 80\n",
        "batch_size = 16\n"
      ]
    },
    {
      "cell_type": "code",
      "execution_count": 3,
      "metadata": {
        "id": "pMlOLf3QVhoS"
      },
      "outputs": [],
      "source": [
        "# Load CIFAR-10 dataset\n",
        "(train_images, train_labels), (test_images, test_labels) = tf.keras.datasets.cifar10.load_data()\n",
        "\n",
        "# Normalize and shuffle the data\n",
        "train_images, train_labels = tf.image.per_image_standardization(train_images), train_labels\n",
        "test_images, test_labels = tf.image.per_image_standardization(test_images), test_labels\n",
        "\n",
        "# Split the data into training and validation sets\n",
        "val_split = 0.1\n",
        "val_size = int(val_split * len(train_images))\n",
        "\n",
        "val_images = train_images[:val_size]\n",
        "val_labels = train_labels[:val_size]\n",
        "\n",
        "train_images = train_images[val_size:]\n",
        "train_labels = train_labels[val_size:]"
      ]
    },
    {
      "cell_type": "markdown",
      "metadata": {
        "id": "JAEf-d3PVhoT"
      },
      "source": [
        "### Create the Inception Model"
      ]
    },
    {
      "cell_type": "code",
      "execution_count": 4,
      "metadata": {
        "id": "6A0B5zJdVhoT"
      },
      "outputs": [],
      "source": [
        "# Convolution module\n",
        "def conv_block(x, out_channels, kernel_size, strides, padding):\n",
        "    x = Conv2D(out_channels, kernel_size, strides=strides, padding=padding)(x)\n",
        "    x = BatchNormalization()(x)\n",
        "    x = Activation('relu')(x)\n",
        "    return x\n",
        "\n",
        "# Inception module\n",
        "def inception_module(x, ch1, ch3):\n",
        "    conv1 = conv_block(x, ch1, (3, 3), (1, 1), 'same')\n",
        "    conv2 = conv_block(x, ch3, (3, 3), (1, 1), 'same')\n",
        "    inception = Concatenate(axis=-1)([conv1, conv2])\n",
        "    return inception\n",
        "\n",
        "# Downsample module\n",
        "def downsample_module(x, ch3):\n",
        "    conv1 = conv_block(x, ch3, (3, 3), (2, 2), 'same')\n",
        "    maxpool = MaxPooling2D(pool_size=(3, 3), strides=(2, 2), padding='same')(x)\n",
        "    x = Concatenate(axis=-1)([conv1, maxpool])\n",
        "    return x\n",
        "\n",
        "# Build the model\n",
        "inputs = Input(shape=(32, 32, 3))\n",
        "x = conv_block(inputs, 96, (3, 3), (1, 1), 'same')\n",
        "x = inception_module(x, 32, 32)\n",
        "x = inception_module(x, 32, 48)\n",
        "x = downsample_module(x, 80)\n",
        "x = inception_module(x, 112, 48)\n",
        "x = inception_module(x, 96, 64)\n",
        "x = inception_module(x, 80, 80)\n",
        "x = inception_module(x, 48, 96)\n",
        "x = downsample_module(x, 96)\n",
        "x = inception_module(x, 176, 160)\n",
        "x = inception_module(x, 176, 160)\n",
        "\n",
        "x = AveragePooling2D(pool_size=(7, 7))(x)\n",
        "x = Flatten()(x)\n",
        "x = Dropout(0.2)(x)\n",
        "outputs = Dense(num_classes, activation='softmax')(x)\n",
        "\n",
        "# Create the model\n",
        "model = Model(inputs, outputs)"
      ]
    },
    {
      "cell_type": "code",
      "execution_count": 5,
      "metadata": {
        "colab": {
          "base_uri": "https://localhost:8080/"
        },
        "id": "hFPzNkyHVhoU",
        "outputId": "33769277-ccc5-4c66-928f-80ec583fd42c"
      },
      "outputs": [
        {
          "output_type": "stream",
          "name": "stdout",
          "text": [
            "Model: \"model\"\n",
            "__________________________________________________________________________________________________\n",
            " Layer (type)                Output Shape                 Param #   Connected to                  \n",
            "==================================================================================================\n",
            " input_1 (InputLayer)        [(None, 32, 32, 3)]          0         []                            \n",
            "                                                                                                  \n",
            " conv2d (Conv2D)             (None, 32, 32, 96)           2688      ['input_1[0][0]']             \n",
            "                                                                                                  \n",
            " batch_normalization (Batch  (None, 32, 32, 96)           384       ['conv2d[0][0]']              \n",
            " Normalization)                                                                                   \n",
            "                                                                                                  \n",
            " activation (Activation)     (None, 32, 32, 96)           0         ['batch_normalization[0][0]'] \n",
            "                                                                                                  \n",
            " conv2d_1 (Conv2D)           (None, 32, 32, 32)           27680     ['activation[0][0]']          \n",
            "                                                                                                  \n",
            " conv2d_2 (Conv2D)           (None, 32, 32, 32)           27680     ['activation[0][0]']          \n",
            "                                                                                                  \n",
            " batch_normalization_1 (Bat  (None, 32, 32, 32)           128       ['conv2d_1[0][0]']            \n",
            " chNormalization)                                                                                 \n",
            "                                                                                                  \n",
            " batch_normalization_2 (Bat  (None, 32, 32, 32)           128       ['conv2d_2[0][0]']            \n",
            " chNormalization)                                                                                 \n",
            "                                                                                                  \n",
            " activation_1 (Activation)   (None, 32, 32, 32)           0         ['batch_normalization_1[0][0]'\n",
            "                                                                    ]                             \n",
            "                                                                                                  \n",
            " activation_2 (Activation)   (None, 32, 32, 32)           0         ['batch_normalization_2[0][0]'\n",
            "                                                                    ]                             \n",
            "                                                                                                  \n",
            " concatenate (Concatenate)   (None, 32, 32, 64)           0         ['activation_1[0][0]',        \n",
            "                                                                     'activation_2[0][0]']        \n",
            "                                                                                                  \n",
            " conv2d_3 (Conv2D)           (None, 32, 32, 32)           18464     ['concatenate[0][0]']         \n",
            "                                                                                                  \n",
            " conv2d_4 (Conv2D)           (None, 32, 32, 48)           27696     ['concatenate[0][0]']         \n",
            "                                                                                                  \n",
            " batch_normalization_3 (Bat  (None, 32, 32, 32)           128       ['conv2d_3[0][0]']            \n",
            " chNormalization)                                                                                 \n",
            "                                                                                                  \n",
            " batch_normalization_4 (Bat  (None, 32, 32, 48)           192       ['conv2d_4[0][0]']            \n",
            " chNormalization)                                                                                 \n",
            "                                                                                                  \n",
            " activation_3 (Activation)   (None, 32, 32, 32)           0         ['batch_normalization_3[0][0]'\n",
            "                                                                    ]                             \n",
            "                                                                                                  \n",
            " activation_4 (Activation)   (None, 32, 32, 48)           0         ['batch_normalization_4[0][0]'\n",
            "                                                                    ]                             \n",
            "                                                                                                  \n",
            " concatenate_1 (Concatenate  (None, 32, 32, 80)           0         ['activation_3[0][0]',        \n",
            " )                                                                   'activation_4[0][0]']        \n",
            "                                                                                                  \n",
            " conv2d_5 (Conv2D)           (None, 16, 16, 80)           57680     ['concatenate_1[0][0]']       \n",
            "                                                                                                  \n",
            " batch_normalization_5 (Bat  (None, 16, 16, 80)           320       ['conv2d_5[0][0]']            \n",
            " chNormalization)                                                                                 \n",
            "                                                                                                  \n",
            " activation_5 (Activation)   (None, 16, 16, 80)           0         ['batch_normalization_5[0][0]'\n",
            "                                                                    ]                             \n",
            "                                                                                                  \n",
            " max_pooling2d (MaxPooling2  (None, 16, 16, 80)           0         ['concatenate_1[0][0]']       \n",
            " D)                                                                                               \n",
            "                                                                                                  \n",
            " concatenate_2 (Concatenate  (None, 16, 16, 160)          0         ['activation_5[0][0]',        \n",
            " )                                                                   'max_pooling2d[0][0]']       \n",
            "                                                                                                  \n",
            " conv2d_6 (Conv2D)           (None, 16, 16, 112)          161392    ['concatenate_2[0][0]']       \n",
            "                                                                                                  \n",
            " conv2d_7 (Conv2D)           (None, 16, 16, 48)           69168     ['concatenate_2[0][0]']       \n",
            "                                                                                                  \n",
            " batch_normalization_6 (Bat  (None, 16, 16, 112)          448       ['conv2d_6[0][0]']            \n",
            " chNormalization)                                                                                 \n",
            "                                                                                                  \n",
            " batch_normalization_7 (Bat  (None, 16, 16, 48)           192       ['conv2d_7[0][0]']            \n",
            " chNormalization)                                                                                 \n",
            "                                                                                                  \n",
            " activation_6 (Activation)   (None, 16, 16, 112)          0         ['batch_normalization_6[0][0]'\n",
            "                                                                    ]                             \n",
            "                                                                                                  \n",
            " activation_7 (Activation)   (None, 16, 16, 48)           0         ['batch_normalization_7[0][0]'\n",
            "                                                                    ]                             \n",
            "                                                                                                  \n",
            " concatenate_3 (Concatenate  (None, 16, 16, 160)          0         ['activation_6[0][0]',        \n",
            " )                                                                   'activation_7[0][0]']        \n",
            "                                                                                                  \n",
            " conv2d_8 (Conv2D)           (None, 16, 16, 96)           138336    ['concatenate_3[0][0]']       \n",
            "                                                                                                  \n",
            " conv2d_9 (Conv2D)           (None, 16, 16, 64)           92224     ['concatenate_3[0][0]']       \n",
            "                                                                                                  \n",
            " batch_normalization_8 (Bat  (None, 16, 16, 96)           384       ['conv2d_8[0][0]']            \n",
            " chNormalization)                                                                                 \n",
            "                                                                                                  \n",
            " batch_normalization_9 (Bat  (None, 16, 16, 64)           256       ['conv2d_9[0][0]']            \n",
            " chNormalization)                                                                                 \n",
            "                                                                                                  \n",
            " activation_8 (Activation)   (None, 16, 16, 96)           0         ['batch_normalization_8[0][0]'\n",
            "                                                                    ]                             \n",
            "                                                                                                  \n",
            " activation_9 (Activation)   (None, 16, 16, 64)           0         ['batch_normalization_9[0][0]'\n",
            "                                                                    ]                             \n",
            "                                                                                                  \n",
            " concatenate_4 (Concatenate  (None, 16, 16, 160)          0         ['activation_8[0][0]',        \n",
            " )                                                                   'activation_9[0][0]']        \n",
            "                                                                                                  \n",
            " conv2d_10 (Conv2D)          (None, 16, 16, 80)           115280    ['concatenate_4[0][0]']       \n",
            "                                                                                                  \n",
            " conv2d_11 (Conv2D)          (None, 16, 16, 80)           115280    ['concatenate_4[0][0]']       \n",
            "                                                                                                  \n",
            " batch_normalization_10 (Ba  (None, 16, 16, 80)           320       ['conv2d_10[0][0]']           \n",
            " tchNormalization)                                                                                \n",
            "                                                                                                  \n",
            " batch_normalization_11 (Ba  (None, 16, 16, 80)           320       ['conv2d_11[0][0]']           \n",
            " tchNormalization)                                                                                \n",
            "                                                                                                  \n",
            " activation_10 (Activation)  (None, 16, 16, 80)           0         ['batch_normalization_10[0][0]\n",
            "                                                                    ']                            \n",
            "                                                                                                  \n",
            " activation_11 (Activation)  (None, 16, 16, 80)           0         ['batch_normalization_11[0][0]\n",
            "                                                                    ']                            \n",
            "                                                                                                  \n",
            " concatenate_5 (Concatenate  (None, 16, 16, 160)          0         ['activation_10[0][0]',       \n",
            " )                                                                   'activation_11[0][0]']       \n",
            "                                                                                                  \n",
            " conv2d_12 (Conv2D)          (None, 16, 16, 48)           69168     ['concatenate_5[0][0]']       \n",
            "                                                                                                  \n",
            " conv2d_13 (Conv2D)          (None, 16, 16, 96)           138336    ['concatenate_5[0][0]']       \n",
            "                                                                                                  \n",
            " batch_normalization_12 (Ba  (None, 16, 16, 48)           192       ['conv2d_12[0][0]']           \n",
            " tchNormalization)                                                                                \n",
            "                                                                                                  \n",
            " batch_normalization_13 (Ba  (None, 16, 16, 96)           384       ['conv2d_13[0][0]']           \n",
            " tchNormalization)                                                                                \n",
            "                                                                                                  \n",
            " activation_12 (Activation)  (None, 16, 16, 48)           0         ['batch_normalization_12[0][0]\n",
            "                                                                    ']                            \n",
            "                                                                                                  \n",
            " activation_13 (Activation)  (None, 16, 16, 96)           0         ['batch_normalization_13[0][0]\n",
            "                                                                    ']                            \n",
            "                                                                                                  \n",
            " concatenate_6 (Concatenate  (None, 16, 16, 144)          0         ['activation_12[0][0]',       \n",
            " )                                                                   'activation_13[0][0]']       \n",
            "                                                                                                  \n",
            " conv2d_14 (Conv2D)          (None, 8, 8, 96)             124512    ['concatenate_6[0][0]']       \n",
            "                                                                                                  \n",
            " batch_normalization_14 (Ba  (None, 8, 8, 96)             384       ['conv2d_14[0][0]']           \n",
            " tchNormalization)                                                                                \n",
            "                                                                                                  \n",
            " activation_14 (Activation)  (None, 8, 8, 96)             0         ['batch_normalization_14[0][0]\n",
            "                                                                    ']                            \n",
            "                                                                                                  \n",
            " max_pooling2d_1 (MaxPoolin  (None, 8, 8, 144)            0         ['concatenate_6[0][0]']       \n",
            " g2D)                                                                                             \n",
            "                                                                                                  \n",
            " concatenate_7 (Concatenate  (None, 8, 8, 240)            0         ['activation_14[0][0]',       \n",
            " )                                                                   'max_pooling2d_1[0][0]']     \n",
            "                                                                                                  \n",
            " conv2d_15 (Conv2D)          (None, 8, 8, 176)            380336    ['concatenate_7[0][0]']       \n",
            "                                                                                                  \n",
            " conv2d_16 (Conv2D)          (None, 8, 8, 160)            345760    ['concatenate_7[0][0]']       \n",
            "                                                                                                  \n",
            " batch_normalization_15 (Ba  (None, 8, 8, 176)            704       ['conv2d_15[0][0]']           \n",
            " tchNormalization)                                                                                \n",
            "                                                                                                  \n",
            " batch_normalization_16 (Ba  (None, 8, 8, 160)            640       ['conv2d_16[0][0]']           \n",
            " tchNormalization)                                                                                \n",
            "                                                                                                  \n",
            " activation_15 (Activation)  (None, 8, 8, 176)            0         ['batch_normalization_15[0][0]\n",
            "                                                                    ']                            \n",
            "                                                                                                  \n",
            " activation_16 (Activation)  (None, 8, 8, 160)            0         ['batch_normalization_16[0][0]\n",
            "                                                                    ']                            \n",
            "                                                                                                  \n",
            " concatenate_8 (Concatenate  (None, 8, 8, 336)            0         ['activation_15[0][0]',       \n",
            " )                                                                   'activation_16[0][0]']       \n",
            "                                                                                                  \n",
            " conv2d_17 (Conv2D)          (None, 8, 8, 176)            532400    ['concatenate_8[0][0]']       \n",
            "                                                                                                  \n",
            " conv2d_18 (Conv2D)          (None, 8, 8, 160)            484000    ['concatenate_8[0][0]']       \n",
            "                                                                                                  \n",
            " batch_normalization_17 (Ba  (None, 8, 8, 176)            704       ['conv2d_17[0][0]']           \n",
            " tchNormalization)                                                                                \n",
            "                                                                                                  \n",
            " batch_normalization_18 (Ba  (None, 8, 8, 160)            640       ['conv2d_18[0][0]']           \n",
            " tchNormalization)                                                                                \n",
            "                                                                                                  \n",
            " activation_17 (Activation)  (None, 8, 8, 176)            0         ['batch_normalization_17[0][0]\n",
            "                                                                    ']                            \n",
            "                                                                                                  \n",
            " activation_18 (Activation)  (None, 8, 8, 160)            0         ['batch_normalization_18[0][0]\n",
            "                                                                    ']                            \n",
            "                                                                                                  \n",
            " concatenate_9 (Concatenate  (None, 8, 8, 336)            0         ['activation_17[0][0]',       \n",
            " )                                                                   'activation_18[0][0]']       \n",
            "                                                                                                  \n",
            " average_pooling2d (Average  (None, 1, 1, 336)            0         ['concatenate_9[0][0]']       \n",
            " Pooling2D)                                                                                       \n",
            "                                                                                                  \n",
            " flatten (Flatten)           (None, 336)                  0         ['average_pooling2d[0][0]']   \n",
            "                                                                                                  \n",
            " dropout (Dropout)           (None, 336)                  0         ['flatten[0][0]']             \n",
            "                                                                                                  \n",
            " dense (Dense)               (None, 10)                   3370      ['dropout[0][0]']             \n",
            "                                                                                                  \n",
            "==================================================================================================\n",
            "Total params: 2938298 (11.21 MB)\n",
            "Trainable params: 2934874 (11.20 MB)\n",
            "Non-trainable params: 3424 (13.38 KB)\n",
            "__________________________________________________________________________________________________\n"
          ]
        }
      ],
      "source": [
        "# Show model summary\n",
        "model.summary()"
      ]
    },
    {
      "cell_type": "markdown",
      "metadata": {
        "id": "oINIWwk_VhoV"
      },
      "source": [
        "### Model Training"
      ]
    },
    {
      "cell_type": "code",
      "execution_count": 6,
      "metadata": {
        "id": "7CSW-I9LVhoV"
      },
      "outputs": [],
      "source": [
        "# Compile the model\n",
        "model.compile(optimizer=SGD(learning_rate=lr),\n",
        "              loss='sparse_categorical_crossentropy',\n",
        "              metrics=['accuracy'])"
      ]
    },
    {
      "cell_type": "code",
      "execution_count": 7,
      "metadata": {
        "colab": {
          "base_uri": "https://localhost:8080/"
        },
        "id": "cHzH7ndVVhoW",
        "outputId": "29c44ff8-3a55-415d-97d0-94ee556c7925"
      },
      "outputs": [
        {
          "output_type": "stream",
          "name": "stdout",
          "text": [
            "Epoch 1/80\n",
            "2813/2813 [==============================] - 79s 21ms/step - loss: 1.3014 - accuracy: 0.5328 - val_loss: 1.1935 - val_accuracy: 0.5916 - lr: 0.0100\n",
            "Epoch 2/80\n",
            "2813/2813 [==============================] - 57s 20ms/step - loss: 0.8698 - accuracy: 0.6980 - val_loss: 0.8111 - val_accuracy: 0.7130 - lr: 0.0099\n",
            "Epoch 3/80\n",
            "2813/2813 [==============================] - 58s 21ms/step - loss: 0.6830 - accuracy: 0.7627 - val_loss: 0.9604 - val_accuracy: 0.6784 - lr: 0.0098\n",
            "Epoch 4/80\n",
            "2813/2813 [==============================] - 56s 20ms/step - loss: 0.5652 - accuracy: 0.8069 - val_loss: 0.7026 - val_accuracy: 0.7626 - lr: 0.0096\n",
            "Epoch 5/80\n",
            "2813/2813 [==============================] - 56s 20ms/step - loss: 0.4746 - accuracy: 0.8363 - val_loss: 0.7795 - val_accuracy: 0.7424 - lr: 0.0095\n",
            "Epoch 6/80\n",
            "2813/2813 [==============================] - 56s 20ms/step - loss: 0.3981 - accuracy: 0.8642 - val_loss: 0.7004 - val_accuracy: 0.7720 - lr: 0.0094\n",
            "Epoch 7/80\n",
            "2813/2813 [==============================] - 56s 20ms/step - loss: 0.3246 - accuracy: 0.8897 - val_loss: 0.9212 - val_accuracy: 0.7126 - lr: 0.0093\n",
            "Epoch 8/80\n",
            "2813/2813 [==============================] - 56s 20ms/step - loss: 0.2675 - accuracy: 0.9080 - val_loss: 0.7590 - val_accuracy: 0.7672 - lr: 0.0091\n",
            "Epoch 9/80\n",
            "2813/2813 [==============================] - 56s 20ms/step - loss: 0.2180 - accuracy: 0.9263 - val_loss: 0.8123 - val_accuracy: 0.7698 - lr: 0.0090\n",
            "Epoch 10/80\n",
            "2813/2813 [==============================] - 56s 20ms/step - loss: 0.1629 - accuracy: 0.9450 - val_loss: 1.0785 - val_accuracy: 0.7182 - lr: 0.0089\n",
            "Epoch 11/80\n",
            "2813/2813 [==============================] - 55s 20ms/step - loss: 0.1299 - accuracy: 0.9579 - val_loss: 0.8955 - val_accuracy: 0.7618 - lr: 0.0088\n",
            "Epoch 12/80\n",
            "2813/2813 [==============================] - 56s 20ms/step - loss: 0.1040 - accuracy: 0.9658 - val_loss: 1.3070 - val_accuracy: 0.7120 - lr: 0.0086\n",
            "Epoch 13/80\n",
            "2813/2813 [==============================] - 56s 20ms/step - loss: 0.0852 - accuracy: 0.9728 - val_loss: 0.7668 - val_accuracy: 0.7956 - lr: 0.0085\n",
            "Epoch 14/80\n",
            "2813/2813 [==============================] - 56s 20ms/step - loss: 0.0657 - accuracy: 0.9798 - val_loss: 1.0878 - val_accuracy: 0.7328 - lr: 0.0084\n",
            "Epoch 15/80\n",
            "2813/2813 [==============================] - 56s 20ms/step - loss: 0.0479 - accuracy: 0.9856 - val_loss: 1.1580 - val_accuracy: 0.7582 - lr: 0.0082\n",
            "Epoch 16/80\n",
            "2813/2813 [==============================] - 56s 20ms/step - loss: 0.0401 - accuracy: 0.9889 - val_loss: 0.7438 - val_accuracy: 0.8164 - lr: 0.0081\n",
            "Epoch 17/80\n",
            "2813/2813 [==============================] - 56s 20ms/step - loss: 0.0321 - accuracy: 0.9911 - val_loss: 0.6626 - val_accuracy: 0.8272 - lr: 0.0080\n",
            "Epoch 18/80\n",
            "2813/2813 [==============================] - 56s 20ms/step - loss: 0.0226 - accuracy: 0.9944 - val_loss: 0.5863 - val_accuracy: 0.8444 - lr: 0.0079\n",
            "Epoch 19/80\n",
            "2813/2813 [==============================] - 56s 20ms/step - loss: 0.0152 - accuracy: 0.9967 - val_loss: 0.5629 - val_accuracy: 0.8552 - lr: 0.0077\n",
            "Epoch 20/80\n",
            "2813/2813 [==============================] - 55s 20ms/step - loss: 0.0113 - accuracy: 0.9978 - val_loss: 0.5816 - val_accuracy: 0.8526 - lr: 0.0076\n",
            "Epoch 21/80\n",
            "2813/2813 [==============================] - 56s 20ms/step - loss: 0.0090 - accuracy: 0.9986 - val_loss: 0.5794 - val_accuracy: 0.8506 - lr: 0.0075\n",
            "Epoch 22/80\n",
            "2813/2813 [==============================] - 57s 20ms/step - loss: 0.0087 - accuracy: 0.9983 - val_loss: 0.6577 - val_accuracy: 0.8402 - lr: 0.0074\n",
            "Epoch 23/80\n",
            "2813/2813 [==============================] - 57s 20ms/step - loss: 0.0071 - accuracy: 0.9989 - val_loss: 0.6118 - val_accuracy: 0.8426 - lr: 0.0072\n",
            "Epoch 24/80\n",
            "2813/2813 [==============================] - 57s 20ms/step - loss: 0.0052 - accuracy: 0.9993 - val_loss: 0.6330 - val_accuracy: 0.8476 - lr: 0.0071\n",
            "Epoch 25/80\n",
            "2813/2813 [==============================] - 58s 20ms/step - loss: 0.0047 - accuracy: 0.9994 - val_loss: 0.5740 - val_accuracy: 0.8596 - lr: 0.0070\n",
            "Epoch 26/80\n",
            "2813/2813 [==============================] - 57s 20ms/step - loss: 0.0039 - accuracy: 0.9995 - val_loss: 0.5577 - val_accuracy: 0.8614 - lr: 0.0069\n",
            "Epoch 27/80\n",
            "2813/2813 [==============================] - 57s 20ms/step - loss: 0.0044 - accuracy: 0.9992 - val_loss: 0.6211 - val_accuracy: 0.8496 - lr: 0.0068\n",
            "Epoch 28/80\n",
            "2813/2813 [==============================] - 57s 20ms/step - loss: 0.0032 - accuracy: 0.9997 - val_loss: 0.5695 - val_accuracy: 0.8614 - lr: 0.0066\n",
            "Epoch 29/80\n",
            "2813/2813 [==============================] - 57s 20ms/step - loss: 0.0032 - accuracy: 0.9997 - val_loss: 0.5626 - val_accuracy: 0.8558 - lr: 0.0065\n",
            "Epoch 30/80\n",
            "2813/2813 [==============================] - 57s 20ms/step - loss: 0.0028 - accuracy: 0.9997 - val_loss: 0.5571 - val_accuracy: 0.8598 - lr: 0.0064\n",
            "Epoch 31/80\n",
            "2813/2813 [==============================] - 57s 20ms/step - loss: 0.0027 - accuracy: 0.9996 - val_loss: 0.5813 - val_accuracy: 0.8578 - lr: 0.0063\n",
            "Epoch 32/80\n",
            "2813/2813 [==============================] - 56s 20ms/step - loss: 0.0027 - accuracy: 0.9998 - val_loss: 0.5619 - val_accuracy: 0.8558 - lr: 0.0061\n",
            "Epoch 33/80\n",
            "2813/2813 [==============================] - 57s 20ms/step - loss: 0.0019 - accuracy: 0.9999 - val_loss: 0.5463 - val_accuracy: 0.8604 - lr: 0.0060\n",
            "Epoch 34/80\n",
            "2813/2813 [==============================] - 57s 20ms/step - loss: 0.0017 - accuracy: 0.9999 - val_loss: 0.5581 - val_accuracy: 0.8630 - lr: 0.0059\n",
            "Epoch 35/80\n",
            "2813/2813 [==============================] - 58s 21ms/step - loss: 0.0017 - accuracy: 0.9999 - val_loss: 0.5596 - val_accuracy: 0.8592 - lr: 0.0058\n",
            "Epoch 36/80\n",
            "2813/2813 [==============================] - 57s 20ms/step - loss: 0.0014 - accuracy: 1.0000 - val_loss: 0.5611 - val_accuracy: 0.8636 - lr: 0.0056\n",
            "Epoch 37/80\n",
            "2813/2813 [==============================] - 57s 20ms/step - loss: 0.0014 - accuracy: 0.9999 - val_loss: 0.5635 - val_accuracy: 0.8592 - lr: 0.0055\n",
            "Epoch 38/80\n",
            "2813/2813 [==============================] - 57s 20ms/step - loss: 0.0014 - accuracy: 0.9999 - val_loss: 0.5659 - val_accuracy: 0.8596 - lr: 0.0054\n",
            "Epoch 39/80\n",
            "2813/2813 [==============================] - 58s 20ms/step - loss: 0.0014 - accuracy: 0.9999 - val_loss: 0.5628 - val_accuracy: 0.8582 - lr: 0.0052\n",
            "Epoch 40/80\n",
            "2813/2813 [==============================] - 56s 20ms/step - loss: 0.0012 - accuracy: 0.9999 - val_loss: 0.5579 - val_accuracy: 0.8604 - lr: 0.0051\n",
            "Epoch 41/80\n",
            "2813/2813 [==============================] - 57s 20ms/step - loss: 0.0013 - accuracy: 0.9999 - val_loss: 0.5574 - val_accuracy: 0.8620 - lr: 0.0050\n",
            "Epoch 42/80\n",
            "2813/2813 [==============================] - 57s 20ms/step - loss: 0.0014 - accuracy: 0.9998 - val_loss: 0.5638 - val_accuracy: 0.8604 - lr: 0.0049\n",
            "Epoch 43/80\n",
            "2813/2813 [==============================] - 57s 20ms/step - loss: 9.6579e-04 - accuracy: 1.0000 - val_loss: 0.5536 - val_accuracy: 0.8660 - lr: 0.0047\n",
            "Epoch 44/80\n",
            "2813/2813 [==============================] - 57s 20ms/step - loss: 9.9085e-04 - accuracy: 1.0000 - val_loss: 0.5712 - val_accuracy: 0.8620 - lr: 0.0046\n",
            "Epoch 45/80\n",
            "2813/2813 [==============================] - 57s 20ms/step - loss: 9.5802e-04 - accuracy: 1.0000 - val_loss: 0.5553 - val_accuracy: 0.8638 - lr: 0.0045\n",
            "Epoch 46/80\n",
            "2813/2813 [==============================] - 57s 20ms/step - loss: 9.0262e-04 - accuracy: 0.9999 - val_loss: 0.5623 - val_accuracy: 0.8644 - lr: 0.0044\n",
            "Epoch 47/80\n",
            "2813/2813 [==============================] - 57s 20ms/step - loss: 7.3058e-04 - accuracy: 1.0000 - val_loss: 0.5570 - val_accuracy: 0.8638 - lr: 0.0043\n",
            "Epoch 48/80\n",
            "2813/2813 [==============================] - 57s 20ms/step - loss: 7.7717e-04 - accuracy: 1.0000 - val_loss: 0.5647 - val_accuracy: 0.8632 - lr: 0.0041\n",
            "Epoch 49/80\n",
            "2813/2813 [==============================] - 57s 20ms/step - loss: 7.9221e-04 - accuracy: 1.0000 - val_loss: 0.5611 - val_accuracy: 0.8640 - lr: 0.0040\n",
            "Epoch 50/80\n",
            "2813/2813 [==============================] - 56s 20ms/step - loss: 6.9970e-04 - accuracy: 1.0000 - val_loss: 0.5617 - val_accuracy: 0.8630 - lr: 0.0039\n",
            "Epoch 51/80\n",
            "2813/2813 [==============================] - 56s 20ms/step - loss: 7.7832e-04 - accuracy: 1.0000 - val_loss: 0.5700 - val_accuracy: 0.8620 - lr: 0.0037\n",
            "Epoch 52/80\n",
            "2813/2813 [==============================] - 56s 20ms/step - loss: 7.2797e-04 - accuracy: 1.0000 - val_loss: 0.5649 - val_accuracy: 0.8614 - lr: 0.0036\n",
            "Epoch 53/80\n",
            "2813/2813 [==============================] - 55s 20ms/step - loss: 6.8469e-04 - accuracy: 1.0000 - val_loss: 0.5644 - val_accuracy: 0.8610 - lr: 0.0035\n",
            "Epoch 54/80\n",
            "2813/2813 [==============================] - 55s 20ms/step - loss: 6.7312e-04 - accuracy: 1.0000 - val_loss: 0.5741 - val_accuracy: 0.8632 - lr: 0.0034\n",
            "Epoch 55/80\n",
            "2813/2813 [==============================] - 56s 20ms/step - loss: 6.2259e-04 - accuracy: 1.0000 - val_loss: 0.5689 - val_accuracy: 0.8628 - lr: 0.0033\n",
            "Epoch 56/80\n",
            "2813/2813 [==============================] - 56s 20ms/step - loss: 6.4525e-04 - accuracy: 1.0000 - val_loss: 0.5693 - val_accuracy: 0.8616 - lr: 0.0031\n",
            "Epoch 57/80\n",
            "2813/2813 [==============================] - 56s 20ms/step - loss: 5.8795e-04 - accuracy: 1.0000 - val_loss: 0.5661 - val_accuracy: 0.8630 - lr: 0.0030\n",
            "Epoch 58/80\n",
            "2813/2813 [==============================] - 55s 20ms/step - loss: 6.3483e-04 - accuracy: 1.0000 - val_loss: 0.5634 - val_accuracy: 0.8616 - lr: 0.0029\n",
            "Epoch 59/80\n",
            "2813/2813 [==============================] - 56s 20ms/step - loss: 5.4532e-04 - accuracy: 1.0000 - val_loss: 0.5654 - val_accuracy: 0.8628 - lr: 0.0027\n",
            "Epoch 60/80\n",
            "2813/2813 [==============================] - 56s 20ms/step - loss: 6.2488e-04 - accuracy: 1.0000 - val_loss: 0.5666 - val_accuracy: 0.8610 - lr: 0.0026\n",
            "Epoch 61/80\n",
            "2813/2813 [==============================] - 56s 20ms/step - loss: 6.3452e-04 - accuracy: 1.0000 - val_loss: 0.5694 - val_accuracy: 0.8604 - lr: 0.0025\n",
            "Epoch 62/80\n",
            "2813/2813 [==============================] - 57s 20ms/step - loss: 6.4843e-04 - accuracy: 1.0000 - val_loss: 0.5688 - val_accuracy: 0.8628 - lr: 0.0024\n",
            "Epoch 63/80\n",
            "2813/2813 [==============================] - 57s 20ms/step - loss: 5.9381e-04 - accuracy: 1.0000 - val_loss: 0.5678 - val_accuracy: 0.8602 - lr: 0.0022\n",
            "Epoch 64/80\n",
            "2813/2813 [==============================] - 57s 20ms/step - loss: 6.5324e-04 - accuracy: 1.0000 - val_loss: 0.5713 - val_accuracy: 0.8612 - lr: 0.0021\n",
            "Epoch 65/80\n",
            "2813/2813 [==============================] - 57s 20ms/step - loss: 5.5155e-04 - accuracy: 1.0000 - val_loss: 0.5692 - val_accuracy: 0.8634 - lr: 0.0020\n",
            "Epoch 66/80\n",
            "2813/2813 [==============================] - 58s 20ms/step - loss: 5.6387e-04 - accuracy: 1.0000 - val_loss: 0.5685 - val_accuracy: 0.8630 - lr: 0.0019\n",
            "Epoch 67/80\n",
            "2813/2813 [==============================] - 57s 20ms/step - loss: 6.2611e-04 - accuracy: 0.9999 - val_loss: 0.5700 - val_accuracy: 0.8650 - lr: 0.0018\n",
            "Epoch 68/80\n",
            "2813/2813 [==============================] - 57s 20ms/step - loss: 5.2207e-04 - accuracy: 1.0000 - val_loss: 0.5702 - val_accuracy: 0.8628 - lr: 0.0016\n",
            "Epoch 69/80\n",
            "2813/2813 [==============================] - 57s 20ms/step - loss: 5.6690e-04 - accuracy: 1.0000 - val_loss: 0.5726 - val_accuracy: 0.8630 - lr: 0.0015\n",
            "Epoch 70/80\n",
            "2813/2813 [==============================] - 57s 20ms/step - loss: 6.4588e-04 - accuracy: 1.0000 - val_loss: 0.5732 - val_accuracy: 0.8634 - lr: 0.0014\n",
            "Epoch 71/80\n",
            "2813/2813 [==============================] - 56s 20ms/step - loss: 4.9099e-04 - accuracy: 1.0000 - val_loss: 0.5726 - val_accuracy: 0.8640 - lr: 0.0012\n",
            "Epoch 72/80\n",
            "2813/2813 [==============================] - 57s 20ms/step - loss: 5.6322e-04 - accuracy: 1.0000 - val_loss: 0.5741 - val_accuracy: 0.8626 - lr: 0.0011\n",
            "Epoch 73/80\n",
            "2813/2813 [==============================] - 58s 20ms/step - loss: 5.9864e-04 - accuracy: 1.0000 - val_loss: 0.5739 - val_accuracy: 0.8634 - lr: 0.0010\n",
            "Epoch 74/80\n",
            "2813/2813 [==============================] - 57s 20ms/step - loss: 5.9199e-04 - accuracy: 1.0000 - val_loss: 0.5713 - val_accuracy: 0.8636 - lr: 8.7500e-04\n",
            "Epoch 75/80\n",
            "2813/2813 [==============================] - 57s 20ms/step - loss: 4.9182e-04 - accuracy: 1.0000 - val_loss: 0.5724 - val_accuracy: 0.8646 - lr: 7.5000e-04\n",
            "Epoch 76/80\n",
            "2813/2813 [==============================] - 57s 20ms/step - loss: 4.6973e-04 - accuracy: 1.0000 - val_loss: 0.5721 - val_accuracy: 0.8652 - lr: 6.2500e-04\n",
            "Epoch 77/80\n",
            "2813/2813 [==============================] - 57s 20ms/step - loss: 4.7504e-04 - accuracy: 1.0000 - val_loss: 0.5719 - val_accuracy: 0.8646 - lr: 5.0000e-04\n",
            "Epoch 78/80\n",
            "2813/2813 [==============================] - 57s 20ms/step - loss: 5.5721e-04 - accuracy: 1.0000 - val_loss: 0.5707 - val_accuracy: 0.8642 - lr: 3.7500e-04\n",
            "Epoch 79/80\n",
            "2813/2813 [==============================] - 57s 20ms/step - loss: 5.2930e-04 - accuracy: 1.0000 - val_loss: 0.5713 - val_accuracy: 0.8648 - lr: 2.5000e-04\n",
            "Epoch 80/80\n",
            "2813/2813 [==============================] - 57s 20ms/step - loss: 4.5976e-04 - accuracy: 1.0000 - val_loss: 0.5719 - val_accuracy: 0.8642 - lr: 1.2500e-04\n",
            "Total training time: 4586.40 seconds\n"
          ]
        }
      ],
      "source": [
        "# Training\n",
        "train_start = time.time()\n",
        "history = model.fit(train_images, train_labels,\n",
        "                    epochs=epochs,\n",
        "                    batch_size=batch_size,\n",
        "                    validation_data=(val_images, val_labels),\n",
        "                    callbacks=[LearningRateScheduler(lambda epoch: lr * (1 - epoch / epochs))])\n",
        "\n",
        "train_time = time.time() - train_start\n",
        "print(f\"Total training time: {train_time:.2f} seconds\")"
      ]
    },
    {
      "cell_type": "markdown",
      "metadata": {
        "id": "Pf_vZD7rVhoW"
      },
      "source": [
        "### Model Testing"
      ]
    },
    {
      "cell_type": "code",
      "execution_count": 8,
      "metadata": {
        "colab": {
          "base_uri": "https://localhost:8080/"
        },
        "id": "yOP6Y8CdVhoW",
        "outputId": "f30c99f2-77f7-4863-ab56-1e6a10b1da67"
      },
      "outputs": [
        {
          "output_type": "stream",
          "name": "stdout",
          "text": [
            "625/625 [==============================] - 4s 7ms/step - loss: 0.6345 - accuracy: 0.8589\n",
            "\n",
            "Test Loss: 0.6345\n",
            "Test Accuracy: 85.89%\n"
          ]
        }
      ],
      "source": [
        "# Testing\n",
        "test_loss, test_accuracy = model.evaluate(test_images, test_labels, batch_size=batch_size)\n",
        "print(f\"\\nTest Loss: {test_loss:.4f}\")\n",
        "print(f\"Test Accuracy: {test_accuracy * 100:.2f}%\")"
      ]
    },
    {
      "cell_type": "code",
      "execution_count": 9,
      "metadata": {
        "id": "B5MT4VusVhoX"
      },
      "outputs": [],
      "source": [
        "# Save all results to a DataFrame for export\n",
        "df_res = pd.DataFrame()\n",
        "df_res['TrainAccuracy'] = history.history['accuracy']\n",
        "df_res['TrainLoss'] = history.history['loss']\n",
        "df_res['ValidationAccuracy'] = history.history['val_accuracy']\n",
        "df_res['ValidationLoss'] = history.history['val_loss']\n",
        "df_res['EpochTime'] = [time.time() - ep_start for ep_start in history.epoch]\n",
        "df_res['Totaltime'] = train_time\n",
        "df_res['TestAccuracy'] = test_accuracy\n",
        "df_res['TestLoss'] = test_loss\n",
        "\n",
        "# Export results to CSV\n",
        "df_res.to_csv('results.csv', index=False)"
      ]
    },
    {
      "cell_type": "code",
      "execution_count": 10,
      "metadata": {
        "colab": {
          "base_uri": "https://localhost:8080/"
        },
        "id": "FWLGD2ESVhoX",
        "outputId": "da276e58-bd8c-41e4-83e7-bcc334b1941d"
      },
      "outputs": [
        {
          "output_type": "stream",
          "name": "stdout",
          "text": [
            "\n",
            "Highest validation accuracy reached: 86.42%\n"
          ]
        }
      ],
      "source": [
        "# Show the highest accuracy\n",
        "max_accuracy = history.history['val_accuracy'][-1]\n",
        "print(f\"\\nHighest validation accuracy reached: {max_accuracy * 100:.2f}%\")"
      ]
    },
    {
      "cell_type": "code",
      "execution_count": 11,
      "metadata": {
        "colab": {
          "base_uri": "https://localhost:8080/"
        },
        "id": "_6GlclmIVhoW",
        "outputId": "69071d30-c671-473f-a4c7-cdfc310abc74"
      },
      "outputs": [
        {
          "output_type": "stream",
          "name": "stdout",
          "text": [
            "313/313 [==============================] - 4s 9ms/step\n"
          ]
        }
      ],
      "source": [
        "# Testing with Confusion Matrix\n",
        "predicted_labels = model.predict(test_images)\n",
        "predicted_labels = np.argmax(predicted_labels, axis=1)"
      ]
    },
    {
      "cell_type": "code",
      "execution_count": 12,
      "metadata": {
        "colab": {
          "base_uri": "https://localhost:8080/"
        },
        "id": "ZBpPSQyKVhoX",
        "outputId": "ff322635-7cd1-4a27-f6ab-d5fa687861e2"
      },
      "outputs": [
        {
          "output_type": "stream",
          "name": "stdout",
          "text": [
            "Confusion Matrix:\n",
            "tf.Tensor(\n",
            "[[885  10  28   9   7   3   7   9  30  12]\n",
            " [  7 936   2   2   0   2   3   1  11  36]\n",
            " [ 43   1 786  32  39  38  36  17   6   2]\n",
            " [ 13   2  49 709  37  96  49  24  11  10]\n",
            " [  6   0  37  33 838  14  34  32   4   2]\n",
            " [  6   3  27 110  26 791   9  23   3   2]\n",
            " [  7   1  29  23  13  12 902   6   5   2]\n",
            " [  6   1  20  26  19  19   2 899   1   7]\n",
            " [ 36  11   7   6   0   0   1   2 928   9]\n",
            " [ 18  33   1   3   2   2   5   6  15 915]], shape=(10, 10), dtype=int32)\n"
          ]
        }
      ],
      "source": [
        "# Show the confusion matrix\n",
        "confusion_matrix = tf.math.confusion_matrix(test_labels, predicted_labels)\n",
        "print(\"Confusion Matrix:\")\n",
        "print(confusion_matrix)"
      ]
    },
    {
      "cell_type": "code",
      "source": [
        "# Plot the confusion matrix\n",
        "\n",
        "# Get percentages\n",
        "confusion_matrix_percent = confusion_matrix.numpy() / confusion_matrix.numpy().sum(axis=1, keepdims=True)\n",
        "\n",
        "# Convert to DataFrame\n",
        "class_names = [str(i) for i in range(confusion_matrix.shape[0])]\n",
        "df_cm = pd.DataFrame(confusion_matrix_percent, index=class_names, columns=class_names)\n",
        "\n",
        "# Plot the heatmap\n",
        "plt.figure(figsize=(10, 8))\n",
        "sns.heatmap(df_cm, annot=True, cmap=\"Blues\", fmt=\".2f\", cbar=False)\n",
        "plt.title(\"Confusion Matrix\")\n",
        "plt.xlabel(\"Predicted Label\")\n",
        "plt.ylabel(\"True Label\")\n",
        "plt.show()"
      ],
      "metadata": {
        "colab": {
          "base_uri": "https://localhost:8080/",
          "height": 542
        },
        "id": "Kp-jCnvUmqaL",
        "outputId": "c997c27f-4910-4ce3-f52f-8e0a2caf2a67"
      },
      "execution_count": 13,
      "outputs": [
        {
          "output_type": "display_data",
          "data": {
            "text/plain": [
              "<Figure size 1000x800 with 1 Axes>"
            ],
            "image/png": "[encoded data removed]"
          },
          "metadata": {}
        }
      ]
    },
    {
      "cell_type": "code",
      "source": [],
      "metadata": {
        "id": "_rPRgOFprdHL"
      },
      "execution_count": 13,
      "outputs": []
    }
  ],
  "metadata": {
    "kernelspec": {
      "display_name": "Python 3",
      "name": "python3"
    },
    "language_info": {
      "codemirror_mode": {
        "name": "ipython",
        "version": 3
      },
      "file_extension": ".py",
      "mimetype": "text/x-python",
      "name": "python",
      "nbconvert_exporter": "python",
      "pygments_lexer": "ipython3",
      "version": "3.11.5"
    },
    "colab": {
      "provenance": [],
      "gpuType": "T4"
    },
    "accelerator": "GPU"
  },
  "nbformat": 4,
  "nbformat_minor": 0
}